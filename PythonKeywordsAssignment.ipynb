{
 "cells": [
  {
   "cell_type": "code",
   "execution_count": 1,
   "id": "65530cb4",
   "metadata": {},
   "outputs": [
    {
     "name": "stdout",
     "output_type": "stream",
     "text": [
      "x is positive\n",
      "0\n",
      "1\n",
      "2\n",
      "3\n",
      "4\n",
      "0\n",
      "1\n",
      "2\n",
      "3\n",
      "4\n"
     ]
    }
   ],
   "source": [
    "#explain the significance of python keywords and examples of five keywords\n",
    "\"\"\"Keywords in Python are reserved words that have special meaning and purpose within the language.\n",
    "They cannot be used as identifiers (such as variable names or function names) because they are already predefined by the \n",
    "language itself. Keywords play a crucial role in defining the syntax and structure of Python code, as they control the \n",
    "flow of execution, define data structures, and perform various operations.\"\"\"\n",
    "\n",
    "#1 if else\n",
    "x = 10\n",
    "if x > 0:\n",
    "    print(\"x is positive\")\n",
    "elif x == 0:\n",
    "    print(\"x is zero\")\n",
    "else:\n",
    "    print(\"x is negative\")\n",
    "\n",
    "#2 for loop\n",
    "for i in range(5):\n",
    "    print(i)\n",
    "    \n",
    "#3 while loop\n",
    "i = 0\n",
    "while i < 5:\n",
    "    print(i)\n",
    "    i += 1\n",
    "    \n",
    "#4 def return\n",
    "def add(a, b):\n",
    "    return a + b\n",
    "\n",
    "#5 True False None\n",
    "x = True\n",
    "y = False\n",
    "z = None"
   ]
  },
  {
   "cell_type": "code",
   "execution_count": 3,
   "id": "44c02915",
   "metadata": {},
   "outputs": [
    {
     "name": "stdout",
     "output_type": "stream",
     "text": [
      "10\n"
     ]
    }
   ],
   "source": [
    "#define the rules for defining identifiers in python and provide an example \n",
    "'''In Python, identifiers are names given to variables, functions, classes, modules, etc. They are used to uniquely identify \n",
    "entities in a program. Here are the rules for defining identifiers in Python:\n",
    "Valid Characters: Identifiers can consist of letters (both uppercase and lowercase), digits, and underscores (_).\n",
    "However, they cannot start with a digit.Case \n",
    "Sensitivity: Python is case-sensitive, so myVariable, MyVariable, and \n",
    "MYVARIABLE are treated as different identifiers.\n",
    "Reserved Keywords: Identifiers cannot be a reserved keyword.\n",
    "Python has a set of reserved words that have special meanings within the language and cannot be used as identifiers.\n",
    "No Special Characters: Identifiers cannot contain special characters such as !, @, #, $, %, etc.\n",
    "Length: There is no limit on the length of an identifier, but it's recommended to keep it meaningful and concise.'''\n",
    "my_variable=10\n",
    "print(my_variable)"
   ]
  },
  {
   "cell_type": "code",
   "execution_count": 5,
   "id": "1de7a916",
   "metadata": {},
   "outputs": [
    {
     "data": {
      "text/plain": [
       "'Comments are useful for several reasons:\\nDocumentation: Comments help in documenting the purpose, functionality, and usage of various parts of the code,\\nmaking it easier for other developers (or even yourself in the future) to understand the codebase.\\nClarification: Comments clarify complex or non-obvious parts of the code, helping readers understand the logic \\nbehind the implementation.\\nDebugging: Comments can be used to temporarily disable or \"comment out\" certain lines of code for debugging purposes,\\nwithout deleting them.\\nCommunication: Comments facilitate communication among team members working on the same codebase by providing insights \\ninto the thought process and reasoning behind specific design choices.'"
      ]
     },
     "execution_count": 5,
     "metadata": {},
     "output_type": "execute_result"
    }
   ],
   "source": [
    "#what are comments in python and why are they useful? provide an example \n",
    "'''Comments in Python are pieces of text within a Python script that are not executed by the interpreter.\n",
    "They are used to provide explanations, documentation, or annotations within the code to make it more readable and \n",
    "understandable to humans. Comments are completely ignored by the Python interpreter during execution.\n",
    "Comments in Python start with the # character and continue until the end of the line. \n",
    "Multi-line comments are not directly supported in Python, but we can use multi-line strings (triple quotes) as a \n",
    "workaround for documenting larger sections of code.'''\n",
    "\n",
    "#example = this assignment is submitted in comments hehe!\n",
    "'''Comments are useful for several reasons:\n",
    "Documentation: Comments help in documenting the purpose, functionality, and usage of various parts of the code,\n",
    "making it easier for other developers (or even yourself in the future) to understand the codebase.\n",
    "Clarification: Comments clarify complex or non-obvious parts of the code, helping readers understand the logic \n",
    "behind the implementation.\n",
    "Debugging: Comments can be used to temporarily disable or \"comment out\" certain lines of code for debugging purposes,\n",
    "without deleting them.\n",
    "Communication: Comments facilitate communication among team members working on the same codebase by providing insights \n",
    "into the thought process and reasoning behind specific design choices.'''"
   ]
  },
  {
   "cell_type": "code",
   "execution_count": 6,
   "id": "d80f7446",
   "metadata": {},
   "outputs": [
    {
     "data": {
      "text/plain": [
       "\"Reasons why proper indentation is important in Python:\\n\\nReadability: Proper indentation makes the code more readable and understandable. It visually separates different \\nblocks of code and clearly indicates the structure of the program\\nCode Blocks: In Python, indentation is used to define code blocks such as function definitions, conditional statements \\n(if, elif, else), loops (for, while), and class definitions. Incorrect indentation can lead to syntax errors or \\nchange the logic of the program.\\nConsistency: Consistent indentation style improves code maintainability and makes it easier for multiple developers to \\ncollaborate on the same codebase. Following a consistent indentation style across the project ensures uniformity and \\nreduces confusion.\\nDebugging: Proper indentation helps in debugging by visually identifying the scope of variables and the flow of control \\nwithin the code. It makes it easier to trace the execution path and identify logical errors.\\nPythonic Code: Python's official style guide, PEP 8, recommends using four spaces for indentation. Following Pythonic \\ncoding conventions, including proper indentation, makes the code more idiomatic and adheres to community standards.\\nInterpreter Requirement: Since Python relies on indentation to interpret the code correctly, improper indentation can \\nlead to unexpected behavior or runtime errors.\""
      ]
     },
     "execution_count": 6,
     "metadata": {},
     "output_type": "execute_result"
    }
   ],
   "source": [
    "#why is proper indentation is important in python ?\n",
    "\n",
    "'''Reasons why proper indentation is important in Python:\n",
    "\n",
    "Readability: Proper indentation makes the code more readable and understandable. It visually separates different \n",
    "blocks of code and clearly indicates the structure of the program\n",
    "Code Blocks: In Python, indentation is used to define code blocks such as function definitions, conditional statements \n",
    "(if, elif, else), loops (for, while), and class definitions. Incorrect indentation can lead to syntax errors or \n",
    "change the logic of the program.\n",
    "Consistency: Consistent indentation style improves code maintainability and makes it easier for multiple developers to \n",
    "collaborate on the same codebase. Following a consistent indentation style across the project ensures uniformity and \n",
    "reduces confusion.\n",
    "Debugging: Proper indentation helps in debugging by visually identifying the scope of variables and the flow of control \n",
    "within the code. It makes it easier to trace the execution path and identify logical errors.\n",
    "Pythonic Code: Python's official style guide, PEP 8, recommends using four spaces for indentation. Following Pythonic \n",
    "coding conventions, including proper indentation, makes the code more idiomatic and adheres to community standards.\n",
    "Interpreter Requirement: Since Python relies on indentation to interpret the code correctly, improper indentation can \n",
    "lead to unexpected behavior or runtime errors.'''"
   ]
  },
  {
   "cell_type": "code",
   "execution_count": null,
   "id": "46861e0b",
   "metadata": {},
   "outputs": [],
   "source": [
    "# What happens if the indentation is incorrect in python ?\n",
    "'''Syntax Errors: The most common issue with incorrect indentation is that it leads to syntax errors. Python expects code \n",
    "blocks to be properly indented, and if the indentation is inconsistent or missing, the interpreter raises an IndentationError.\n",
    "This error indicates that the indentation level does not match the expected structure of the code.\n",
    "Change in Logic: Incorrect indentation can change the logic and flow of control within the program. For example, if a line of \n",
    "code is indented differently than intended, it may be interpreted as part of a different code block, leading to unintended \n",
    "behavior. This can result in logical errors or bugs that are difficult to identify and debug.\n",
    "Unintended Scope: Incorrect indentation can alter the scope of variables and other identifiers within the code. Variables \n",
    "defined within a specific code block may become inaccessible or have unexpected values if the indentation is incorrect. \n",
    "This can lead to issues such as variable shadowing or unintended variable scope.\n",
    "Runtime Errors: In some cases, incorrect indentation may not result in syntax errors but can still cause runtime errors or \n",
    "produce incorrect output. For example, if a loop or conditional statement is not properly indented, it may not execute as \n",
    "expected, leading to incorrect program behavior.\n",
    "Debugging Challenges: Incorrect indentation can make it challenging to debug and maintain the code. Inconsistent or misleading\n",
    "indentation makes it harder for developers to understand the structure and logic of the code, leading to longer debugging \n",
    "cycles and decreased productivity.'''"
   ]
  },
  {
   "cell_type": "code",
   "execution_count": 7,
   "id": "2105d2eb",
   "metadata": {},
   "outputs": [
    {
     "name": "stdout",
     "output_type": "stream",
     "text": [
      "Result: 8\n",
      "The result is correct!\n"
     ]
    }
   ],
   "source": [
    "# Diffrentiate between expression and statement in python with example.\n",
    "'''\n",
    "In Python, both expressions and statements are fundamental building blocks of code, but they serve different purposes and \n",
    "have distinct characteristics.\n",
    "\n",
    "Expression:\n",
    "An expression is a combination of values, variables, operators, and function calls that evaluates to a single value.\n",
    "Expressions can be simple, like 5 + 3, or more complex, involving function calls and nested expressions.\n",
    "Expressions can be used anywhere in Python code where a value is expected, such as in assignments, function arguments, \n",
    "conditional statements, and loop conditions.\n",
    "\n",
    "Statement:\n",
    "A statement is a complete unit of execution that performs a specific action or operation.\n",
    "Statements do not necessarily evaluate to a value; instead, they perform tasks such as variable assignment, function definition, control flow (if, elif, else), loops (for, while), import statements, etc.\n",
    "Statements typically end with a newline character, although semicolons can be used to separate multiple statements on a \n",
    "single line.'''\n",
    "\n",
    "# Expression example\n",
    "result = 5 + 3  # Expression (evaluates to 8)\n",
    "print(\"Result:\", result)  # Statement (prints the value of 'result')\n",
    "\n",
    "# Statement example\n",
    "if result == 8:  # Statement (controls program flow)\n",
    "    print(\"The result is correct!\")  # Statement (prints a message)"
   ]
  },
  {
   "cell_type": "code",
   "execution_count": null,
   "id": "6812a341",
   "metadata": {},
   "outputs": [],
   "source": []
  }
 ],
 "metadata": {
  "kernelspec": {
   "display_name": "Python 3 (ipykernel)",
   "language": "python",
   "name": "python3"
  },
  "language_info": {
   "codemirror_mode": {
    "name": "ipython",
    "version": 3
   },
   "file_extension": ".py",
   "mimetype": "text/x-python",
   "name": "python",
   "nbconvert_exporter": "python",
   "pygments_lexer": "ipython3",
   "version": "3.11.5"
  }
 },
 "nbformat": 4,
 "nbformat_minor": 5
}
